{
 "cells": [
  {
   "cell_type": "code",
   "execution_count": null,
   "id": "47c1cda3",
   "metadata": {},
   "outputs": [],
   "source": [
    "import os\n",
    "import cv2\n",
    "import yaml\n",
    "import xml.etree.ElementTree as ET\n",
    "from xml.dom.minidom import parseString"
   ]
  },
  {
   "cell_type": "code",
   "execution_count": null,
   "id": "20e26ba4",
   "metadata": {},
   "outputs": [],
   "source": [
    "# Base path to dataset\n",
    "base_path = 'U:\\object-detection-yolo\\indoor_object_detection_dataset'\n",
    "splits = ['train', 'valid', 'test']\n",
    "not_found_image = []"
   ]
  },
  {
   "cell_type": "code",
   "execution_count": null,
   "id": "903db217",
   "metadata": {},
   "outputs": [],
   "source": []
  },
  {
   "cell_type": "code",
   "execution_count": null,
   "id": "3fadf01d",
   "metadata": {},
   "outputs": [],
   "source": [
    "# Load class names from data.yaml\n",
    "with open(os.path.join(base_path, 'data.yaml'), 'r') as f:\n",
    "    data = yaml.safe_load(f)\n",
    "class_names = data['names']\n",
    "\n",
    "def create_voc_xml(image_path, boxes, img_shape, class_names, output_path):\n",
    "    height, width, depth = img_shape\n",
    "    image_filename = os.path.basename(image_path)\n",
    "    \n",
    "    annotation = ET.Element('annotation')\n",
    "    ET.SubElement(annotation, 'folder').text = os.path.basename(os.path.dirname(image_path))\n",
    "    ET.SubElement(annotation, 'filename').text = image_filename\n",
    "    \n",
    "    size = ET.SubElement(annotation, 'size')\n",
    "    ET.SubElement(size, 'width').text = str(width)\n",
    "    ET.SubElement(size, 'height').text = str(height)\n",
    "    ET.SubElement(size, 'depth').text = str(depth)\n",
    "    ET.SubElement(annotation, 'segmented').text = '0'\n",
    "    \n",
    "    for class_id, x_min, y_min, x_max, y_max in boxes:\n",
    "        obj = ET.SubElement(annotation, 'object')\n",
    "        ET.SubElement(obj, 'name').text = class_names[class_id]\n",
    "        ET.SubElement(obj, 'pose').text = 'Unspecified'\n",
    "        ET.SubElement(obj, 'truncated').text = '0'\n",
    "        ET.SubElement(obj, 'difficult').text = '0'\n",
    "        bbox = ET.SubElement(obj, 'bndbox')\n",
    "        ET.SubElement(bbox, 'xmin').text = str(x_min)\n",
    "        ET.SubElement(bbox, 'ymin').text = str(y_min)\n",
    "        ET.SubElement(bbox, 'xmax').text = str(x_max)\n",
    "        ET.SubElement(bbox, 'ymax').text = str(y_max)\n",
    "    \n",
    "    xml_str = ET.tostring(annotation)\n",
    "    dom = parseString(xml_str)\n",
    "    with open(output_path, 'w') as f:\n",
    "        f.write(dom.toprettyxml(indent=\"  \"))\n",
    "\n",
    "for split in splits:\n",
    "    image_dir = os.path.join(base_path, split, 'images')\n",
    "    label_dir = os.path.join(base_path, split, 'labels')\n",
    "    output_dir = os.path.join(base_path, split, 'annotations')  # new folder for .xml\n",
    "    os.makedirs(output_dir, exist_ok=True)\n",
    "    \n",
    "    for filename in os.listdir(label_dir):\n",
    "        if not filename.endswith('.txt'):\n",
    "            continue\n",
    "\n",
    "        image_filename = os.path.splitext(filename)[0] + '.jpg'  # adjust if using .png\n",
    "        image_path = os.path.join(image_dir, image_filename)\n",
    "        label_path = os.path.join(label_dir, filename)\n",
    "        xml_output_path = os.path.join(output_dir, os.path.splitext(filename)[0] + '.xml')\n",
    "\n",
    "        if not os.path.exists(image_path):\n",
    "            print(f\"Warning: image not found for {image_filename} in {split}\")\n",
    "            not_found_image.append(image_filename)\n",
    "            continue\n",
    "\n",
    "        image = cv2.imread(image_path)\n",
    "        height, width, depth = image.shape\n",
    "\n",
    "        boxes = []\n",
    "        with open(label_path, 'r') as f:\n",
    "            for line in f:\n",
    "                class_id, x_center, y_center, w, h = map(float, line.strip().split())\n",
    "                class_id = int(class_id)\n",
    "                x_min = int((x_center - w / 2) * width)\n",
    "                x_max = int((x_center + w / 2) * width)\n",
    "                y_min = int((y_center - h / 2) * height)\n",
    "                y_max = int((y_center + h / 2) * height)\n",
    "                boxes.append((class_id, x_min, y_min, x_max, y_max))\n",
    "\n",
    "        create_voc_xml(image_path, boxes, image.shape, class_names, xml_output_path)\n",
    "\n",
    "print(\"YOLO to VOC XML conversion complete.\")"
   ]
  },
  {
   "cell_type": "code",
   "execution_count": null,
   "id": "b964188b",
   "metadata": {},
   "outputs": [],
   "source": [
    "train_img = os.listdir(r\"U:\\object-detection-yolo\\indoor_object_detection_dataset\\train\\images\")\n",
    "train_xml = os.listdir(r\"U:\\object-detection-yolo\\indoor_object_detection_dataset\\train\\annotations\")\n",
    "len(train_img), len(train_xml)"
   ]
  },
  {
   "cell_type": "code",
   "execution_count": null,
   "id": "3d09bd8b",
   "metadata": {},
   "outputs": [],
   "source": [
    "test_img = os.listdir(r\"U:\\object-detection-yolo\\indoor_object_detection_dataset\\test\\images\")\n",
    "test_xml = os.listdir(r\"U:\\object-detection-yolo\\indoor_object_detection_dataset\\test\\annotations\")\n",
    "len(test_img), len(test_xml)"
   ]
  },
  {
   "cell_type": "code",
   "execution_count": null,
   "id": "1fa8227a",
   "metadata": {},
   "outputs": [],
   "source": [
    "valid_img = os.listdir(r\"U:\\object-detection-yolo\\indoor_object_detection_dataset\\valid\\images\")\n",
    "valid_xml = os.listdir(r\"U:\\object-detection-yolo\\indoor_object_detection_dataset\\valid\\annotations\")\n",
    "len(valid_img), len(valid_xml)"
   ]
  },
  {
   "cell_type": "code",
   "execution_count": 1,
   "id": "766206fa",
   "metadata": {},
   "outputs": [
    {
     "name": "stderr",
     "output_type": "stream",
     "text": [
      "u:\\object-detection-yolo\\venv\\lib\\site-packages\\albumentations\\check_version.py:147: UserWarning: Error fetching version info <urlopen error [Errno 11001] getaddrinfo failed>\n",
      "  data = fetch_version_info()\n"
     ]
    },
    {
     "name": "stdout",
     "output_type": "stream",
     "text": [
      "inside CustomDataset\n"
     ]
    },
    {
     "name": "stderr",
     "output_type": "stream",
     "text": [
      "u:\\object-detection-yolo\\venv\\lib\\site-packages\\tqdm\\auto.py:21: TqdmWarning: IProgress not found. Please update jupyter and ipywidgets. See https://ipywidgets.readthedocs.io/en/stable/user_install.html\n",
      "  from .autonotebook import tqdm as notebook_tqdm\n"
     ]
    }
   ],
   "source": [
    "from dataset_indoor import create_train_loader\n",
    "from tqdm.auto import tqdm\n",
    "\n",
    "train_dataset = r\"U:\\object-detection-yolo\\indoor_object_detection_dataset\\train\\images\""
   ]
  },
  {
   "cell_type": "code",
   "execution_count": 2,
   "id": "e02375c2",
   "metadata": {},
   "outputs": [
    {
     "name": "stdout",
     "output_type": "stream",
     "text": [
      "inside create_train_loader\n"
     ]
    }
   ],
   "source": [
    "train_data_loader = create_train_loader(train_dataset, 4)"
   ]
  },
  {
   "cell_type": "code",
   "execution_count": 6,
   "id": "2c1c5a7e",
   "metadata": {},
   "outputs": [],
   "source": [
    "# prog_bar = tqdm(train_data_loader, total=len(train_data_loader))\n",
    "    \n",
    "# for i, data in enumerate(prog_bar):\n",
    "#     print(data)\n",
    "#     break"
   ]
  },
  {
   "cell_type": "code",
   "execution_count": null,
   "id": "eb03f628",
   "metadata": {},
   "outputs": [],
   "source": []
  }
 ],
 "metadata": {
  "kernelspec": {
   "display_name": "Python 3",
   "language": "python",
   "name": "python3"
  },
  "language_info": {
   "codemirror_mode": {
    "name": "ipython",
    "version": 3
   },
   "file_extension": ".py",
   "mimetype": "text/x-python",
   "name": "python",
   "nbconvert_exporter": "python",
   "pygments_lexer": "ipython3",
   "version": "3.10.0"
  }
 },
 "nbformat": 4,
 "nbformat_minor": 5
}
